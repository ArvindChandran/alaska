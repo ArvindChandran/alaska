{
 "cells": [
  {
   "cell_type": "code",
   "execution_count": 1,
   "metadata": {},
   "outputs": [],
   "source": [
    "%load_ext autoreload\n",
    "%autoreload 2"
   ]
  },
  {
   "cell_type": "code",
   "execution_count": 4,
   "metadata": {},
   "outputs": [],
   "source": [
    "import os\n",
    "os.environ['CUDA_DEVICE_ORDER'] = 'PCI_BUS_ID'\n",
    "os.environ['CUDA_VISIBLE_DEVICES'] = '2'\n",
    "import numpy as np\n",
    "import tensorflow as tf\n",
    "import functools\n",
    "import sys\n",
    "home = os.path.expanduser(\"~\")\n",
    "user = home.split('/')[-1]\n",
    "sys.path.append(home + '/alaska_github/src/')\n",
    "from tools.tf2onnx_utils import *\n",
    "from tools.models import *\n",
    "from tools.jpeg_utils import *\n",
    "from tools.train_estimator import *\n",
    "from tools.tf_utils import *\n",
    "import pickle\n",
    "from tqdm import tqdm"
   ]
  },
  {
   "cell_type": "code",
   "execution_count": 5,
   "metadata": {},
   "outputs": [],
   "source": [
    "QF = 95\n",
    "\n",
    "checkpoint_prefix = home + '/alaska_github/models/feature_extractors/QF'+str(QF)+'/tensorflow/'\n",
    "checkpoint_path = checkpoint_prefix + 'model.cpkt-color_separated'\n",
    "\n",
    "data_prefix = home + '/alaska_github/data/QF'+str(QF)+'/tiles/JPEG/'\n",
    "data_dict = {'COVER':data_prefix+'COVER/',\n",
    "            'JUNI':data_prefix+'JUNI/',\n",
    "            'UED':data_prefix+'UED/',\n",
    "            'NSF5':data_prefix+'NSF5/',\n",
    "            'EBS':data_prefix+'EBS/'}\n",
    "\n",
    "with open('IL_val.p', 'rb') as f:\n",
    "    IL_val = pickle.load(f)\n",
    "with open('IL_train.p', 'rb') as f:\n",
    "    IL_train = pickle.load(f)"
   ]
  },
  {
   "cell_type": "code",
   "execution_count": null,
   "metadata": {},
   "outputs": [],
   "source": [
    "branch = 'YCrCb'\n",
    "LOG_DIR =  home + '/alaska_github/src/LogFiles/QF'+str(QF)+'/'+branch+'/'\n",
    "boundaries = [20000, 100000]\n",
    "values = [0.0001, 0.001, 0.0001]\n",
    "max_iter = 200000\n",
    "save_interval = 1000\n",
    "stego_schemes = ['EBS', 'JUNI', 'NSF5', 'UED']\n",
    "priors = [0.15, 0.4, 0.15, 0.3]\n",
    "valid_batch_size = 100\n",
    "train_batch_size = 64\n",
    "num_runner_threads = 10\n",
    "hidden_sizes = None\n",
    "\n",
    "warm_start_checkpoint = checkpoint_path\n",
    "load_checkpoint = None\n",
    "\n",
    "train_estimator(SR_net_multiclass, hidden_sizes, 5, LOG_DIR, boundaries, values, save_interval,\n",
    "                    warm_start_checkpoint, load_checkpoint, branch, \n",
    "                    data_dict['COVER'], data_dict, stego_schemes, priors,\n",
    "                    IL_train, IL_val, valid_batch_size, \n",
    "                    train_batch_size, num_runner_threads,\n",
    "                    max_iter, gen_train, gen_valid)"
   ]
  }
 ],
 "metadata": {
  "kernelspec": {
   "display_name": "Python 3",
   "language": "python",
   "name": "python3"
  },
  "language_info": {
   "codemirror_mode": {
    "name": "ipython",
    "version": 3
   },
   "file_extension": ".py",
   "mimetype": "text/x-python",
   "name": "python",
   "nbconvert_exporter": "python",
   "pygments_lexer": "ipython3",
   "version": "3.6.8"
  }
 },
 "nbformat": 4,
 "nbformat_minor": 2
}
